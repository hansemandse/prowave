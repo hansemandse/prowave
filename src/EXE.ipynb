{
 "cells": [
  {
   "cell_type": "markdown",
   "metadata": {},
   "source": [
    "# ProWave - WaveNet-based Protein Generation"
   ]
  },
  {
   "cell_type": "markdown",
   "metadata": {},
   "source": [
    "Authors: Hans Jakob Damsgaard & Lucas Balling\n",
    "\n",
    "02456 Deep Learning project: ProGen"
   ]
  },
  {
   "cell_type": "markdown",
   "metadata": {},
   "source": [
    "## Initialization"
   ]
  },
  {
   "cell_type": "markdown",
   "metadata": {},
   "source": [
    "Run the commmand below if you have not yet installed the [TAPE project](https://github.com/songlab-cal/tape)."
   ]
  },
  {
   "cell_type": "code",
   "execution_count": 1,
   "metadata": {},
   "outputs": [],
   "source": [
    "#!pip install tape_proteins"
   ]
  },
  {
   "cell_type": "markdown",
   "metadata": {},
   "source": [
    "#### Importing needed packages"
   ]
  },
  {
   "cell_type": "code",
   "execution_count": 3,
   "metadata": {},
   "outputs": [],
   "source": [
    "import numpy as np\n",
    "import matplotlib.pyplot as plt\n",
    "import seaborn as sns\n",
    "sns.set_style('whitegrid')\n",
    "import torch\n",
    "import torch.nn as nn\n",
    "import torch.nn.functional as F\n",
    "import torch.optim as optim\n",
    "from torch.autograd import Variable\n",
    "from torch.nn.parameter import Parameter\n",
    "import tape"
   ]
  },
  {
   "cell_type": "markdown",
   "metadata": {},
   "source": [
    "#### Import the data\n",
    "\n",
    "We were unable to make the data download script, `download_data.sh`, run from Jupyter, so instead we ran it manually and simply placed the resulting files in the right folder for TAPE to find them. We import all the data in the LMDB format as it is most easily worked with in Python."
   ]
  },
  {
   "cell_type": "code",
   "execution_count": 4,
   "metadata": {},
   "outputs": [],
   "source": [
    "from tape.datasets import LanguageModelingDataset\n",
    "\n",
    "# Data stored under `<data-path>/data`\n",
    "#data_path = '/Users/lucasballing/Desktop/DeepLearningProject/prowave-main/data/'\n",
    "data_path = 'E:/Pfam/data/'\n",
    "train_data   = LanguageModelingDataset(data_path, 'train')\n",
    "valid_data   = LanguageModelingDataset(data_path, 'valid')\n",
    "holdout_data = LanguageModelingDataset(data_path, 'holdout')"
   ]
  },
  {
   "cell_type": "markdown",
   "metadata": {},
   "source": [
    "#### Understanding data features\n",
    "\n",
    "To get a good understanding of the data provided in the imported dataset, we provide plots of certain features and their ranges. Data is already split into the three required subsets; train, validation, and holdout by TAPE, so it is also interesting to understand this split."
   ]
  },
  {
   "cell_type": "code",
   "execution_count": 38,
   "metadata": {},
   "outputs": [
    {
     "output_type": "stream",
     "name": "stdout",
     "text": [
      "Training data has shape (32593668, 4)\nValidation data has shape (1715454, 4)\nHoldout data has shape (44311, 4)\nFile data entries look like this: {'primary': 'GCTVEDRCLIGMGAILLNGCVIGSGSLVAAGALITQ', 'protein_length': 36, 'clan': 433, 'family': 9122, 'id': '0'}\nEncoded data entries look like this: (array([ 2, 11,  7, 23, 25,  9,  8, 21,  7, 15, 13, 11, 16, 11,  5, 13, 15,\n       15, 17, 11,  7, 25, 13, 11, 22, 11, 22, 15, 25,  5,  5, 11,  5, 15,\n       13, 23, 20,  3], dtype=int64), array([1, 1, 1, 1, 1, 1, 1, 1, 1, 1, 1, 1, 1, 1, 1, 1, 1, 1, 1, 1, 1, 1,\n       1, 1, 1, 1, 1, 1, 1, 1, 1, 1, 1, 1, 1, 1, 1, 1], dtype=int64), 433, 9122)\n"
     ]
    }
   ],
   "source": [
    "# Split sizes\n",
    "print(f'Training data has shape ({len(train_data)}, {len(train_data[0])})')\n",
    "print(f'Validation data has shape ({len(valid_data)}, {len(valid_data[0])})')\n",
    "print(f'Holdout data has shape ({len(holdout_data)}, {len(holdout_data[0])})')\n",
    "\n",
    "# Original data columns\n",
    "from tape.datasets import LMDBDataset\n",
    "lmdb_train = LMDBDataset(data_path+'pfam/pfam_train.lmdb')\n",
    "print(f'File data entries look like this: {lmdb_train[0]}')\n",
    "del lmdb_train\n",
    "\n",
    "# Data columns - all subsets are taken from the same overall dataset, so the columns are the same\n",
    "# From combining information from LMDBDataset and LanguageModelingDataset, we know the columns are\n",
    "# - IUPAC-encoded protein string\n",
    "# - Input mask (for masked-token prediction)\n",
    "# - Protein clan\n",
    "# - Protein family\n",
    "# The protein ID (i.e., its number within its clan and family) is not included\n",
    "print(f'Encoded data entries look like this: {train_data[0]}')"
   ]
  },
  {
   "cell_type": "code",
   "execution_count": 22,
   "metadata": {},
   "outputs": [],
   "source": [
    "# def setify(data, param = 2):\n",
    "#     res = set()\n",
    "#     for i in range(len(data)):\n",
    "#         res.add(data[i][param])\n",
    "#     return res\n",
    "# \n",
    "# # Clans in splits\n",
    "# print(f'Unique clans in training data {len(setify(train_data))}')\n",
    "# print(f'Unique clans in validation data {len(setify(valid_data))}')\n",
    "# print(f'Unique clans in holdout data {len(setify(holdout_data))}')\n",
    "# \n",
    "# # Families in splits\n",
    "# print(f'Unique families in training data {len(setify(train_data, 3))}')\n",
    "# print(f'Unique families in validation data {len(setify(valid_data, 3))}')\n",
    "# print(f'Unique families in holdout data {len(setify(holdout_data, 3))}')\n"
   ]
  },
  {
   "cell_type": "code",
   "execution_count": 93,
   "metadata": {},
   "outputs": [
    {
     "name": "stdout",
     "output_type": "stream",
     "text": [
      "Size of Dataset 1464\n"
     ]
    }
   ],
   "source": [
    "from tape.datasets import LMDBDataset\n",
    "data_path = '/Users/lucasballing/Desktop/DeepLearningProject/prowave-main/data/pfam/pfam_holdout.lmdb' # 'Your File Path here'\n",
    "\n",
    "\n",
    "np.train_datav2 = np.array(LMDBDataset(data_path))\n",
    "train_datav3 = (LMDBDataset(data_path))\n",
    "print(\"Size of Dataset\",train_data[2][3] )"
   ]
  },
  {
   "cell_type": "code",
   "execution_count": 96,
   "metadata": {},
   "outputs": [
    {
     "data": {
      "image/png": "[encoded data removed]",
      "text/plain": [
       "<Figure size 432x288 with 1 Axes>"
      ]
     },
     "metadata": {},
     "output_type": "display_data"
    },
    {
     "data": {
      "image/png": "[encoded data removed]",
      "text/plain": [
       "<Figure size 432x288 with 1 Axes>"
      ]
     },
     "metadata": {},
     "output_type": "display_data"
    },
    {
     "data": {
      "image/png": "[encoded data removed]",
      "text/plain": [
       "<Figure size 432x288 with 1 Axes>"
      ]
     },
     "metadata": {},
     "output_type": "display_data"
    },
    {
     "data": {
      "image/png": "[encoded data removed]",
      "text/plain": [
       "<Figure size 432x288 with 1 Axes>"
      ]
     },
     "metadata": {},
     "output_type": "display_data"
    },
    {
     "name": "stdout",
     "output_type": "stream",
     "text": [
      "Size of Dataset:  44311\n",
      "Dataset looks like this   [{'primary': 'DNEDNKKVYVAQNYDMEKYYKDYITLIKIKERETDTLLITFAGVLGCIGFNSCGIGLNINYLQANDLGTGILYPFVVRKALQQNRIGDALGAITTGFKASGMNYLLSDSLGNIFDIEMAGKDFDILQMKDGFMSHSNHYKSEKLIKKDMMAYDLSLDSSFSRRGSTIIREHVCNKLLNKRKESFVLEDIKNILTDHTNYPYSICKHGDLNEDKYRGNETVFSSIFDLESREAHIAIGTPCK', 'protein_length': 241, 'clan': 34, 'family': 153, 'id': '0'}\n",
      " {'primary': 'QIGAGGTLLRNYDFSPDGCEGTIVSSHFLRPVIGMQDAAWGLLDGMNDAGLAVSLTFGGRFVHGPGFAVLIVLRYLLETCTTVGEAVGKLKSLPIAIPQNVTLVDPERSLTVFVGPDIPLTEAPDACAANHQHLPVPDEQEQSSRTQERLSAIRAAGTDVAAMLEPPLYQTAYDEWLGTLYTAHYRPSEGRVTYYWPGDSW', 'protein_length': 201, 'clan': 34, 'family': 153, 'id': '1'}\n",
      " {'primary': 'VLTGKEIQLVRNYDYHPDLMEGTQLLSAWNGKKVIATSDCLIGAVDGMNEDGLAISLTFGGRKEVGVGFGIPFILRYVLEFCSNAEEAVEALIRIPSHMSYNVTVVDKTGAYKTVRMAPDREPVVTDAAFATNHQGTVDWPENAAFNKTIERSAYIEKMLTKKGIKAQAVADAFLKKPLYNTLFKEGFGTLFTAVYRPAEGTVETRWPNAS', 'protein_length': 211, 'clan': 34, 'family': 153, 'id': '2'}\n",
      " ...\n",
      " {'primary': 'PWSQDTFLARLRTFSRVSLWHPKPQSISEVKWAKRGWSCVDVNTVACKGCCGKRVVVSLDFAKTESVNRGEDVEGDGDNGEAQENSEQDEDELEAALALKYQALIVDGHSDSCPWRRTGCPDDIYRLQVIRAASWQLELRRRYQSLHQISDAIREVT', 'protein_length': 157, 'clan': 215, 'family': 17581, 'id': '44308'}\n",
      " {'primary': 'PSSLPDLIERIRTYRATTFTPGKPTSIDPLHCSLLGWASHKFQRDQIECTTCHALVSLAPLPSPHMWASEPGRQLVKTYEQQLRQAHHRTCPWRVKGASPRLYQLPQLGRKVLMQEIALQAKDLQQMFGSLPGLT', 'protein_length': 135, 'clan': 215, 'family': 17581, 'id': '44309'}\n",
      " {'primary': 'PYSPLALLARLRTFQSYSYPLDSVHLSPIKAALHGWVNAARHTLRCGSCKSILSLKGLDDIPSEVVREEVSKRLSRGFESSHKVNCPWRIRKSPDELYDQLRNSLHPLISSNILPLSTALRQSIPSLSS', 'protein_length': 129, 'clan': 215, 'family': 17581, 'id': '44310'}]\n",
      "Size of Dataset:  44311\n",
      "Dataset looks like this   <tape.datasets.LMDBDataset object at 0x7fc89a67b2b0>\n"
     ]
    }
   ],
   "source": [
    "_ = plt.hist(np.train_datav2[2], bins='auto')  # arguments are passed to np.histogram\n",
    "plt.title(\"Proteins\")\n",
    "plt.Text(0.5, 1.0, \"Histogram with 'auto' bins\")\n",
    "plt.show()\n",
    "\n",
    "_ = plt.hist(np.train_datav2[5], bins='auto')  # arguments are passed to np.histogram\n",
    "plt.title(\"Proteins\")\n",
    "plt.Text(0.5, 1.0, \"Histogram with 'auto' bins\")\n",
    "plt.show()\n",
    "\n",
    "_ = plt.hist(np.train_datav2[4], bins='auto')  # arguments are passed to np.histogram\n",
    "plt.title(\"Proteins\")\n",
    "plt.Text(0.5, 1.0, \"Histogram with 'auto' bins\")\n",
    "plt.show()\n",
    "\n",
    "_ = plt.hist(train_datav3[1], bins='auto')  # arguments are passed to np.histogram\n",
    "plt.title(\"Proteins\")\n",
    "plt.Text(0.5, 1.0, \"Histogram with 'auto' bins\")\n",
    "plt.show()\n",
    "\n",
    "print(\"Size of Dataset: \",np.size(np.train_datav2) )\n",
    "print(\"Dataset looks like this  \",(np.train_datav2) )\n",
    "\n",
    "\n",
    "# Not Numpy array\n",
    "\n",
    "print(\"Size of Dataset: \",np.size(train_datav3) )\n",
    "print(\"Dataset looks like this  \",(train_datav3) )"
   ]
  },
  {
   "cell_type": "code",
   "execution_count": 90,
   "metadata": {},
   "outputs": [
    {
     "name": "stdout",
     "output_type": "stream",
     "text": [
      "Dataset looks like this   {'primary': 'QIGAGGTLLRNYDFSPDGCEGTIVSSHFLRPVIGMQDAAWGLLDGMNDAGLAVSLTFGGRFVHGPGFAVLIVLRYLLETCTTVGEAVGKLKSLPIAIPQNVTLVDPERSLTVFVGPDIPLTEAPDACAANHQHLPVPDEQEQSSRTQERLSAIRAAGTDVAAMLEPPLYQTAYDEWLGTLYTAHYRPSEGRVTYYWPGDSW', 'protein_length': 201, 'clan': 34, 'family': 153, 'id': '1'}\n",
      "Dataset looks like this   {'primary': 'VLTGKEIQLVRNYDYHPDLMEGTQLLSAWNGKKVIATSDCLIGAVDGMNEDGLAISLTFGGRKEVGVGFGIPFILRYVLEFCSNAEEAVEALIRIPSHMSYNVTVVDKTGAYKTVRMAPDREPVVTDAAFATNHQGTVDWPENAAFNKTIERSAYIEKMLTKKGIKAQAVADAFLKKPLYNTLFKEGFGTLFTAVYRPAEGTVETRWPNAS', 'protein_length': 211, 'clan': 34, 'family': 153, 'id': '2'}\n"
     ]
    }
   ],
   "source": [
    "print(\"Dataset looks like this  \",(np.train_datav2[1]) )\n",
    "print(\"Dataset looks like this  \",(np.train_datav2[2]) )\n"
   ]
  },
  {
   "cell_type": "code",
   "execution_count": 99,
   "metadata": {},
   "outputs": [
    {
     "data": {
      "image/png": "[encoded data removed]",
      "text/plain": [
       "<Figure size 432x288 with 1 Axes>"
      ]
     },
     "metadata": {},
     "output_type": "display_data"
    }
   ],
   "source": [
    "#Holdout data language model\n",
    "_ = plt.hist(np.holdout_data[1], bins='auto')  # arguments are passed to np.histogram\n",
    "plt.title(\"Proteins\")\n",
    "plt.Text(0.5, 1.0, \"Histogram with 'auto' bins\")\n",
    "plt.show()\n"
   ]
  },
  {
   "cell_type": "code",
   "execution_count": 100,
   "metadata": {},
   "outputs": [
    {
     "name": "stdout",
     "output_type": "stream",
     "text": [
      "Dataset looks like this   (array([ 2, 25, 15, 23, 11, 14,  9, 13, 20, 15, 25, 21, 17, 28,  8, 28, 12,\n",
      "       19,  8, 15, 16,  9, 11, 23, 20, 15, 15, 22,  5, 26, 17, 11, 14, 14,\n",
      "       25, 13,  5, 23, 22,  8,  7, 15, 13, 11,  5, 25,  8, 11, 16, 17,  9,\n",
      "        8, 11, 15,  5, 13, 22, 15, 23, 10, 11, 11, 21, 14,  9, 25, 11, 25,\n",
      "       11, 10, 11, 13, 19, 10, 13, 15, 21, 28, 25, 15,  9, 10,  7, 22, 17,\n",
      "        5,  9,  9,  5, 25,  9,  5, 15, 13, 21, 13, 19, 22, 12, 16, 22, 28,\n",
      "       17, 25, 23, 25, 25,  8, 14, 23, 11,  5, 28, 14, 23, 25, 21, 16,  5,\n",
      "       19,  8, 21,  9, 19, 25, 25, 23,  8,  5,  5, 10,  5, 23, 17, 12, 20,\n",
      "       11, 23, 25,  8, 26, 19,  9, 17,  5,  5, 10, 17, 14, 23, 13,  9, 21,\n",
      "       22,  5, 28, 13,  9, 14, 16, 15, 23, 14, 14, 11, 13, 14,  5, 20,  5,\n",
      "       25,  5,  8,  5, 10, 15, 14, 14, 19, 15, 28, 17, 23, 15, 10, 14,  9,\n",
      "       11, 10, 11, 23, 15, 10, 23,  5, 25, 28, 21, 19,  5,  9, 11, 23, 25,\n",
      "        9, 23, 21, 26, 19, 17,  5, 22,  3]), array([1, 1, 1, 1, 1, 1, 1, 1, 1, 1, 1, 1, 1, 1, 1, 1, 1, 1, 1, 1, 1, 1,\n",
      "       1, 1, 1, 1, 1, 1, 1, 1, 1, 1, 1, 1, 1, 1, 1, 1, 1, 1, 1, 1, 1, 1,\n",
      "       1, 1, 1, 1, 1, 1, 1, 1, 1, 1, 1, 1, 1, 1, 1, 1, 1, 1, 1, 1, 1, 1,\n",
      "       1, 1, 1, 1, 1, 1, 1, 1, 1, 1, 1, 1, 1, 1, 1, 1, 1, 1, 1, 1, 1, 1,\n",
      "       1, 1, 1, 1, 1, 1, 1, 1, 1, 1, 1, 1, 1, 1, 1, 1, 1, 1, 1, 1, 1, 1,\n",
      "       1, 1, 1, 1, 1, 1, 1, 1, 1, 1, 1, 1, 1, 1, 1, 1, 1, 1, 1, 1, 1, 1,\n",
      "       1, 1, 1, 1, 1, 1, 1, 1, 1, 1, 1, 1, 1, 1, 1, 1, 1, 1, 1, 1, 1, 1,\n",
      "       1, 1, 1, 1, 1, 1, 1, 1, 1, 1, 1, 1, 1, 1, 1, 1, 1, 1, 1, 1, 1, 1,\n",
      "       1, 1, 1, 1, 1, 1, 1, 1, 1, 1, 1, 1, 1, 1, 1, 1, 1, 1, 1, 1, 1, 1,\n",
      "       1, 1, 1, 1, 1, 1, 1, 1, 1, 1, 1, 1, 1, 1, 1]), 34, 153)\n"
     ]
    }
   ],
   "source": [
    "print(\"Dataset looks like this  \",(np.holdout_data[2]) )"
   ]
  },
  {
   "cell_type": "code",
   "execution_count": 102,
   "metadata": {},
   "outputs": [
    {
     "ename": "ValueError",
     "evalue": "DataFrame constructor not properly called!",
     "output_type": "error",
     "traceback": [
      "\u001b[0;31m---------------------------------------------------------------------------\u001b[0m",
      "\u001b[0;31mValueError\u001b[0m                                Traceback (most recent call last)",
      "\u001b[0;32m<ipython-input-102-70f068f986d8>\u001b[0m in \u001b[0;36m<module>\u001b[0;34m\u001b[0m\n\u001b[1;32m      1\u001b[0m \u001b[0;32mimport\u001b[0m \u001b[0mpandas\u001b[0m \u001b[0;32mas\u001b[0m \u001b[0mpd\u001b[0m\u001b[0;34m\u001b[0m\u001b[0;34m\u001b[0m\u001b[0m\n\u001b[1;32m      2\u001b[0m \u001b[0;34m\u001b[0m\u001b[0m\n\u001b[0;32m----> 3\u001b[0;31m \u001b[0mdf\u001b[0m \u001b[0;34m=\u001b[0m \u001b[0mpd\u001b[0m\u001b[0;34m.\u001b[0m\u001b[0mDataFrame\u001b[0m\u001b[0;34m(\u001b[0m\u001b[0mnp\u001b[0m\u001b[0;34m.\u001b[0m\u001b[0mholdout_data\u001b[0m\u001b[0;34m)\u001b[0m\u001b[0;34m\u001b[0m\u001b[0;34m\u001b[0m\u001b[0m\n\u001b[0m",
      "\u001b[0;32m/opt/anaconda3/lib/python3.8/site-packages/pandas/core/frame.py\u001b[0m in \u001b[0;36m__init__\u001b[0;34m(self, data, index, columns, dtype, copy)\u001b[0m\n\u001b[1;32m    527\u001b[0m         \u001b[0;32melse\u001b[0m\u001b[0;34m:\u001b[0m\u001b[0;34m\u001b[0m\u001b[0;34m\u001b[0m\u001b[0m\n\u001b[1;32m    528\u001b[0m             \u001b[0;32mif\u001b[0m \u001b[0mindex\u001b[0m \u001b[0;32mis\u001b[0m \u001b[0;32mNone\u001b[0m \u001b[0;32mor\u001b[0m \u001b[0mcolumns\u001b[0m \u001b[0;32mis\u001b[0m \u001b[0;32mNone\u001b[0m\u001b[0;34m:\u001b[0m\u001b[0;34m\u001b[0m\u001b[0;34m\u001b[0m\u001b[0m\n\u001b[0;32m--> 529\u001b[0;31m                 \u001b[0;32mraise\u001b[0m \u001b[0mValueError\u001b[0m\u001b[0;34m(\u001b[0m\u001b[0;34m\"DataFrame constructor not properly called!\"\u001b[0m\u001b[0;34m)\u001b[0m\u001b[0;34m\u001b[0m\u001b[0;34m\u001b[0m\u001b[0m\n\u001b[0m\u001b[1;32m    530\u001b[0m \u001b[0;34m\u001b[0m\u001b[0m\n\u001b[1;32m    531\u001b[0m             \u001b[0;32mif\u001b[0m \u001b[0;32mnot\u001b[0m \u001b[0mdtype\u001b[0m\u001b[0;34m:\u001b[0m\u001b[0;34m\u001b[0m\u001b[0;34m\u001b[0m\u001b[0m\n",
      "\u001b[0;31mValueError\u001b[0m: DataFrame constructor not properly called!"
     ]
    }
   ],
   "source": [
    "\n",
    "import pandas as pd\n",
    "\n",
    "df = pd.DataFrame(np.holdout_data)"
   ]
  },
  {
   "cell_type": "code",
   "execution_count": null,
   "metadata": {},
   "outputs": [],
   "source": []
  }
 ],
 "metadata": {
  "kernelspec": {
   "display_name": "Python 3",
   "language": "python",
   "name": "python3"
  },
  "language_info": {
   "codemirror_mode": {
    "name": "ipython",
    "version": 3
   },
   "file_extension": ".py",
   "mimetype": "text/x-python",
   "name": "python",
   "nbconvert_exporter": "python",
   "pygments_lexer": "ipython3",
   "version": "3.7.6-final"
  }
 },
 "nbformat": 4,
 "nbformat_minor": 4
}