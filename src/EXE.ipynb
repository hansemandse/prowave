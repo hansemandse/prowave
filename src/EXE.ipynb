{
 "cells": [
  {
   "cell_type": "markdown",
   "metadata": {},
   "source": [
    "# ProWave - WaveNet-based Protein Generation"
   ]
  },
  {
   "cell_type": "markdown",
   "metadata": {},
   "source": [
    "Authors: Hans Jakob Damsgaard & Lucas Balling\n",
    "\n",
    "02456 Deep Learning project: ProGen"
   ]
  },
  {
   "cell_type": "markdown",
   "metadata": {},
   "source": [
    "## Downloading Tape ##"
   ]
  },
  {
   "cell_type": "code",
   "execution_count": 1,
   "metadata": {},
   "outputs": [
    {
     "name": "stdout",
     "output_type": "stream",
     "text": [
      "Requirement already satisfied: tape_proteins in /opt/anaconda3/lib/python3.8/site-packages (0.4)\n",
      "Requirement already satisfied: torch<1.5,>=1.0 in /opt/anaconda3/lib/python3.8/site-packages (from tape_proteins) (1.4.0)\n",
      "Requirement already satisfied: tensorboardX in /opt/anaconda3/lib/python3.8/site-packages (from tape_proteins) (2.1)\n",
      "Requirement already satisfied: tqdm in /opt/anaconda3/lib/python3.8/site-packages (from tape_proteins) (4.49.0)\n",
      "Requirement already satisfied: boto3 in /opt/anaconda3/lib/python3.8/site-packages (from tape_proteins) (1.16.9)\n",
      "Requirement already satisfied: lmdb in /opt/anaconda3/lib/python3.8/site-packages (from tape_proteins) (1.0.0)\n",
      "Requirement already satisfied: requests in /opt/anaconda3/lib/python3.8/site-packages (from tape_proteins) (2.24.0)\n",
      "Requirement already satisfied: scipy in /opt/anaconda3/lib/python3.8/site-packages (from tape_proteins) (1.5.0)\n",
      "Requirement already satisfied: biopython in /opt/anaconda3/lib/python3.8/site-packages (from tape_proteins) (1.78)\n",
      "Requirement already satisfied: six in /opt/anaconda3/lib/python3.8/site-packages (from tensorboardX->tape_proteins) (1.15.0)\n",
      "Requirement already satisfied: numpy in /opt/anaconda3/lib/python3.8/site-packages (from tensorboardX->tape_proteins) (1.19.2)\n",
      "Requirement already satisfied: protobuf>=3.8.0 in /opt/anaconda3/lib/python3.8/site-packages (from tensorboardX->tape_proteins) (3.13.0)\n",
      "Requirement already satisfied: jmespath<1.0.0,>=0.7.1 in /opt/anaconda3/lib/python3.8/site-packages (from boto3->tape_proteins) (0.10.0)\n",
      "Requirement already satisfied: s3transfer<0.4.0,>=0.3.0 in /opt/anaconda3/lib/python3.8/site-packages (from boto3->tape_proteins) (0.3.3)\n",
      "Requirement already satisfied: botocore<1.20.0,>=1.19.9 in /opt/anaconda3/lib/python3.8/site-packages (from boto3->tape_proteins) (1.19.9)\n",
      "Requirement already satisfied: idna<3,>=2.5 in /opt/anaconda3/lib/python3.8/site-packages (from requests->tape_proteins) (2.10)\n",
      "Requirement already satisfied: certifi>=2017.4.17 in /opt/anaconda3/lib/python3.8/site-packages (from requests->tape_proteins) (2020.6.20)\n",
      "Requirement already satisfied: urllib3!=1.25.0,!=1.25.1,<1.26,>=1.21.1 in /opt/anaconda3/lib/python3.8/site-packages (from requests->tape_proteins) (1.25.10)\n",
      "Requirement already satisfied: chardet<4,>=3.0.2 in /opt/anaconda3/lib/python3.8/site-packages (from requests->tape_proteins) (3.0.4)\n",
      "Requirement already satisfied: setuptools in /opt/anaconda3/lib/python3.8/site-packages (from protobuf>=3.8.0->tensorboardX->tape_proteins) (49.6.0.post20200814)\n",
      "Requirement already satisfied: python-dateutil<3.0.0,>=2.1 in /opt/anaconda3/lib/python3.8/site-packages (from botocore<1.20.0,>=1.19.9->boto3->tape_proteins) (2.8.1)\n"
     ]
    }
   ],
   "source": [
    "!pip install tape_proteins"
   ]
  },
  {
   "cell_type": "markdown",
   "metadata": {},
   "source": [
    "#### Importing Needed packages"
   ]
  },
  {
   "cell_type": "code",
   "execution_count": 2,
   "metadata": {},
   "outputs": [],
   "source": [
    "import tape\n",
    "import pip\n",
    "from numpy import errstate,isneginf,array\n",
    "import numpy as np\n",
    "import matplotlib\n",
    "import matplotlib.pyplot as plt\n",
    "import torch\n",
    "from torch.autograd import Variable\n",
    "from torch.nn.parameter import Parameter\n",
    "import torch.nn as nn\n",
    "import torch.nn.functional as F\n",
    "import torch.optim as optim\n",
    "import torch.nn.init as init\n",
    "# Matlab Plotting possibilities\n",
    "import matplotlib.pyplot as plt\n",
    "\n",
    "# Get Tape\n",
    "from tape import TRRosetta\n",
    "from tape.datasets import TRRosettaDataset\n",
    "\n",
    "drive_path = \"/Users/lucasballing/Desktop/DeepLearningProject/prowave-main/\" #\"C:/silabs\"\n",
    "\n"
   ]
  },
  {
   "cell_type": "markdown",
   "metadata": {},
   "source": [
    "### Download dataset"
   ]
  },
  {
   "cell_type": "code",
   "execution_count": 3,
   "metadata": {},
   "outputs": [
    {
     "name": "stdout",
     "output_type": "stream",
     "text": [
      "Do you wish to download and unzip the pretraining corpus? It is 7.7GB compressed and 19GB uncompressed? [y/n]^C\n"
     ]
    }
   ],
   "source": [
    "# Loading the pfam dataset and changing into a language model\n",
    "!/Users/lucasballing/Desktop/DeepLearningProject/prowave-main/tape-master/download_data.sh -n\n",
    "#LanguageModelingDataset(Dataset):"
   ]
  },
  {
   "cell_type": "code",
   "execution_count": 4,
   "metadata": {},
   "outputs": [
    {
     "ename": "NameError",
     "evalue": "name 'n' is not defined",
     "output_type": "error",
     "traceback": [
      "\u001b[0;31m---------------------------------------------------------------------------\u001b[0m",
      "\u001b[0;31mNameError\u001b[0m                                 Traceback (most recent call last)",
      "\u001b[0;32m<ipython-input-4-ab0680a89434>\u001b[0m in \u001b[0;36m<module>\u001b[0;34m\u001b[0m\n\u001b[0;32m----> 1\u001b[0;31m \u001b[0mn\u001b[0m\u001b[0;34m\u001b[0m\u001b[0;34m\u001b[0m\u001b[0m\n\u001b[0m",
      "\u001b[0;31mNameError\u001b[0m: name 'n' is not defined"
     ]
    }
   ],
   "source": [
    "n"
   ]
  },
  {
   "cell_type": "code",
   "execution_count": null,
   "metadata": {},
   "outputs": [],
   "source": []
  }
 ],
 "metadata": {
  "kernelspec": {
   "display_name": "Python 3",
   "language": "python",
   "name": "python3"
  },
  "language_info": {
   "codemirror_mode": {
    "name": "ipython",
    "version": 3
   },
   "file_extension": ".py",
   "mimetype": "text/x-python",
   "name": "python",
   "nbconvert_exporter": "python",
   "pygments_lexer": "ipython3",
   "version": "3.8.5"
  }
 },
 "nbformat": 4,
 "nbformat_minor": 4
}
