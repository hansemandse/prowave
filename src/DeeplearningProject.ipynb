{
 "cells": [
  {
   "cell_type": "markdown",
   "metadata": {},
   "source": [
    "# ProWave - WaveNet-based Protein Generation"
   ]
  },
  {
   "cell_type": "markdown",
   "metadata": {},
   "source": [
    "Authors: Hans Jakob Damsgaard & Lucas Balling\n",
    "\n",
    "02456 Deep Learning project: ProGen"
   ]
  },
  {
   "cell_type": "markdown",
   "metadata": {},
   "source": [
    "## Initialization"
   ]
  },
  {
   "cell_type": "markdown",
   "metadata": {},
   "source": [
    "Run the commmand below if you have not yet installed the [TAPE project](https://github.com/songlab-cal/tape)."
   ]
  },
  {
   "cell_type": "code",
   "execution_count": null,
   "metadata": {},
   "outputs": [],
   "source": [
    "#!pip install tape_proteins"
   ]
  },
  {
   "cell_type": "markdown",
   "metadata": {},
   "source": [
    "#### Importing needed packages"
   ]
  },
  {
   "cell_type": "code",
   "execution_count": 1,
   "metadata": {},
   "outputs": [],
   "source": [
    "import numpy as np\n",
    "import pandas as pd\n",
    "import pickle as pkl\n",
    "import matplotlib.pyplot as plt\n",
    "import seaborn as sns\n",
    "sns.set_style('whitegrid')\n",
    "import torch\n",
    "import torch.nn as nn\n",
    "import torch.nn.functional as F\n",
    "import torch.optim as optim\n",
    "from torch.autograd import Variable\n",
    "from torch.nn.parameter import Parameter\n",
    "import tape"
   ]
  },
  {
   "cell_type": "markdown",
   "metadata": {},
   "source": [
    "#### Importing the data\n",
    "\n",
    "We were unable to make the data download script, `download_data.sh`, run from Jupyter, so instead we ran it manually and simply placed the resulting files in the right folder for TAPE to find them. We import all the data in the LMDB format as it is most easily worked with in Python."
   ]
  },
  {
   "cell_type": "code",
   "execution_count": 2,
   "metadata": {},
   "outputs": [],
   "source": [
    "from tape.datasets import LanguageModelingDataset\n",
    "\n",
    "data_path = '/Users/lucasballing/Desktop/DeepLearningProject/prowave-main/data/'\n",
    "#data_path = 'E:/Pfam/data/'\n",
    "#train_data   = LanguageModelingDataset(data_path, 'train')\n",
    "#valid_data   = LanguageModelingDataset(data_path, 'valid')\n",
    "#holdout_data = LanguageModelingDataset(data_path, 'holdout')"
   ]
  },
  {
   "cell_type": "markdown",
   "metadata": {},
   "source": [
    "#### Understanding data features\n",
    "\n",
    "To get a good understanding of the data provided in the imported dataset, we provide plots of certain features and their ranges. Data is already split into the three required subsets; train, validation, and holdout by TAPE, so it is also interesting to understand this split."
   ]
  },
  {
   "cell_type": "code",
   "execution_count": 3,
   "metadata": {},
   "outputs": [
    {
     "ename": "NameError",
     "evalue": "name 'train_data' is not defined",
     "output_type": "error",
     "traceback": [
      "\u001b[0;31m---------------------------------------------------------------------------\u001b[0m",
      "\u001b[0;31mNameError\u001b[0m                                 Traceback (most recent call last)",
      "\u001b[0;32m<ipython-input-3-0fd2f6122151>\u001b[0m in \u001b[0;36m<module>\u001b[0;34m\u001b[0m\n\u001b[1;32m      1\u001b[0m \u001b[0;31m# Split sizes\u001b[0m\u001b[0;34m\u001b[0m\u001b[0;34m\u001b[0m\u001b[0;34m\u001b[0m\u001b[0m\n\u001b[0;32m----> 2\u001b[0;31m \u001b[0mprint\u001b[0m\u001b[0;34m(\u001b[0m\u001b[0;34mf'Training data has shape ({len(train_data)}, {len(train_data[0])})'\u001b[0m\u001b[0;34m)\u001b[0m\u001b[0;34m\u001b[0m\u001b[0;34m\u001b[0m\u001b[0m\n\u001b[0m\u001b[1;32m      3\u001b[0m \u001b[0mprint\u001b[0m\u001b[0;34m(\u001b[0m\u001b[0;34mf'Validation data has shape ({len(valid_data)}, {len(valid_data[0])})'\u001b[0m\u001b[0;34m)\u001b[0m\u001b[0;34m\u001b[0m\u001b[0;34m\u001b[0m\u001b[0m\n\u001b[1;32m      4\u001b[0m \u001b[0mprint\u001b[0m\u001b[0;34m(\u001b[0m\u001b[0;34mf'Holdout data has shape ({len(holdout_data)}, {len(holdout_data[0])})'\u001b[0m\u001b[0;34m)\u001b[0m\u001b[0;34m\u001b[0m\u001b[0;34m\u001b[0m\u001b[0m\n\u001b[1;32m      5\u001b[0m \u001b[0;34m\u001b[0m\u001b[0m\n",
      "\u001b[0;31mNameError\u001b[0m: name 'train_data' is not defined"
     ]
    }
   ],
   "source": [
    "# Split sizes\n",
    "print(f'Training data has shape ({len(train_data)}, {len(train_data[0])})')\n",
    "print(f'Validation data has shape ({len(valid_data)}, {len(valid_data[0])})')\n",
    "print(f'Holdout data has shape ({len(holdout_data)}, {len(holdout_data[0])})')\n",
    "\n",
    "# Original data columns\n",
    "from tape.datasets import LMDBDataset\n",
    "lmdb_train = LMDBDataset(data_path+'pfam/pfam_train.lmdb')\n",
    "print(f'File data entries look like this: {lmdb_train[0]}')\n",
    "del lmdb_train\n",
    "\n",
    "# Data columns - all subsets are taken from the same overall dataset, so the columns are the same\n",
    "# From combining information from LMDBDataset and LanguageModelingDataset, we know the columns are\n",
    "# - IUPAC-encoded protein string\n",
    "# - Input mask (for masked-token prediction)\n",
    "# - Protein clan\n",
    "# - Protein family\n",
    "# The protein ID (i.e., its number within its clan and family) is not included\n",
    "print(f'Encoded data entries look like this: {train_data[0]}')"
   ]
  },
  {
   "cell_type": "code",
   "execution_count": null,
   "metadata": {},
   "outputs": [],
   "source": [
    "#from utils import setify\n",
    "\n",
    "# Fetch results from all splits\n",
    "#results = setify([train_data, valid_data, holdout_data])\n",
    "\n",
    "# Clans in splits\n",
    "#clans = results[0][0]\n",
    "#print(f'Unique clans in training data {len(clans[0])}')\n",
    "#print(f'Unique clans in validation data {len(clans[1])}')\n",
    "#print(f'Unique clans in holdout data {len(clans[2])}')\n",
    "\n",
    "# Families in splits\n",
    "#families = results[0][1]\n",
    "#print(f'Unique families in training data {len(families[0])}')\n",
    "#print(f'Unique families in validation data {len(families[1])}')\n",
    "#print(f'Unique families in holdout data {len(families[2])}')\n",
    "\n",
    "# PRINTS:\n",
    "# Unique clans in training data 623\n",
    "# Unique clans in validation data 623\n",
    "# Unique clans in holdout data 8\n",
    "# Unique families in training data 17737\n",
    "# Unique families in validation data 15974\n",
    "# Unique families in holdout data 28\n"
   ]
  },
  {
   "cell_type": "markdown",
   "metadata": {},
   "source": [
    "#### Creating some histograms\n",
    "In this section, we plot some histograms of the datasets to visulise the distribution of clan and family IDs. "
   ]
  },
  {
   "cell_type": "code",
   "execution_count": null,
   "metadata": {},
   "outputs": [],
   "source": [
    "# Histograms of protein counts in clans\n",
    "# TRAINING\n",
    "df = pd.DataFrame(results[1][0], columns=['Clan', 'Count'])\n",
    "sns.displot(df, x='Clan')\n",
    "plt.title('Training - Protein count vs Clan')\n",
    "plt.show()\n",
    "\n",
    "# VALIDATION\n",
    "df = pd.DataFrame(results[1][1], columns=['Clan', 'Count'])\n",
    "sns.displot(df, x='Clan')\n",
    "plt.title('Validation - Protein count vs Clan')\n",
    "plt.show()\n",
    "\n",
    "# HOLDOUT\n",
    "df = pd.DataFrame(results[1][2], columns=['Clan', 'Count'])\n",
    "sns.displot(df, x='Clan')\n",
    "plt.title('Holdout - Protein count vs Clan')\n",
    "plt.show()\n",
    "\n",
    "# Histograms of protein counts in families\n",
    "# TRAINING\n",
    "df = pd.DataFrame(results[2][0], columns=['Family', 'Count'])\n",
    "sns.displot(df, x='Family')\n",
    "plt.title('Training - Protein count vs Clan')\n",
    "plt.show()\n",
    "\n",
    "# VALIDATION\n",
    "df = pd.DataFrame(results[2][1], columns=['Family', 'Count'])\n",
    "sns.displot(df, x='Family')\n",
    "plt.title('Validation - Protein count vs Clan')\n",
    "plt.show()\n",
    "\n",
    "# HOLDOUT\n",
    "df = pd.DataFrame(results[2][2], columns=['Family', 'Count'])\n",
    "sns.displot(df, x='Family')\n",
    "plt.title('Holdout - Protein count vs Clan')\n",
    "plt.show()\n"
   ]
  },
  {
   "cell_type": "markdown",
   "metadata": {},
   "source": [
    "# Idea and Initial Implementation\n",
    "We intend to follow the ideas presented in the ProGen paper relatively closely. That is, our network will be trained on conditioned aminoacid sequences with the only two available conditioning tags being the clan and family IDs. To enable this, our network's input will be as shown on the figure below.\n",
    "\n",
    "<img src=\"../Training.png\" width=\"500\"/>\n",
    "\n",
    "So, like ProGen, our input $x=[c;a]$ is a sequence of encoded conditioning tags $c=(c_0,...,c_n)$ (in this case just two), and a starting sequence $a=(a_0, ..., a_n)$ of aminoacids for starting the sequence generation. The sequence is fed one character at a time to the network, which accumulates state before starting generation. We intend to let the network run free either until it generates an end character or until the generated sequence has length 500.\n"
   ]
  },
  {
   "cell_type": "markdown",
   "metadata": {},
   "source": [
    "## One-hot encoding\n",
    "One way to represent a fixed amount of words is through one-hot encoding. We intend to use one-hot encoding for both aminoacids as well as conditioning tags meaning that the input characters to our network become rather large. This may seem inefficient due to the great sparsity in the vectors produced, but we intend to limit this sparsity by decreasing the number of clans and families considered. This will allow us to generate proteins only for a subset of the available clans and families but at a much shorter required training and evaluation time. \n",
    "\n",
    "An example of a one-hot encoding is shown below:\n",
    "\n",
    "| Amionacid    | one-hot encoded vector   |\n",
    "| ------------- |--------------------------|\n",
    "| Ala = A        | $= [1, 0, 0, \\ldots, 0]$ |\n",
    "| Asx = B        | $= [0, 1, 0, \\ldots, 0]$ |\n",
    "| Cys = C    | $= [0, 0, 1, \\ldots, 0]$ |\n",
    "| ... | ... |\n",
    "| pad   | $= [0, 0, 0, \\ldots, 1]$ |\n",
    "\n",
    "Although the implementation from earlier in the course, which is used below, works well, we have decided to instead use Pytorch's own Embedding module which allows us to skip manually encoding vectors."
   ]
  },
  {
   "cell_type": "code",
   "execution_count": null,
   "metadata": {},
   "outputs": [],
   "source": [
    "from utils import one_hot_encode, one_hot_encode_sequence\n",
    "\n",
    "# Testing the implementation\n",
    "vocab_size = 30\n",
    "test_word = one_hot_encode(1, vocab_size)\n",
    "print(f'Our one-hot encoding of \\'1\\' has shape {test_word.shape}.')\n",
    "print(test_word)\n",
    "\n",
    "test_sentence = one_hot_encode_sequence(holdout_data[1][0], vocab_size)\n",
    "print(f'Our one-hot encoding of \\'{holdout_data[1][0]}\\' has shape {test_sentence.shape}.')\n",
    "print(test_sentence)"
   ]
  },
  {
   "cell_type": "markdown",
   "metadata": {},
   "source": [
    "## Reducing input size\n",
    "To reduce training time and problem size, we intend to extract 10 clans and their families from the training set and use those for training the network. Data is stored in sorted order in the training data set meaning that we can simply store elements until we see the 11th clan ID at which we can stop looking through the dataset. This is preferable over having to look through the entire dataset (as we did to gather plot data earlier), as such an operation takes a long time due to the mere size of the dataset.\n",
    "\n",
    "As part of this operation, we also throw away the input masks that are included in the original dataset and attempt to limit data size by using `int8` instead of the original `int64` format for encoded sequences."
   ]
  },
  {
   "cell_type": "code",
   "execution_count": 8,
   "metadata": {},
   "outputs": [
    {
     "ename": "NameError",
     "evalue": "name 'dataset' is not defined",
     "output_type": "error",
     "traceback": [
      "\u001b[0;31m---------------------------------------------------------------------------\u001b[0m",
      "\u001b[0;31mNameError\u001b[0m                                 Traceback (most recent call last)",
      "\u001b[0;32m<ipython-input-8-4c1bddac0b46>\u001b[0m in \u001b[0;36m<module>\u001b[0;34m\u001b[0m\n\u001b[1;32m      3\u001b[0m \u001b[0;31m#dataset = get_data(train_data, 10)\u001b[0m\u001b[0;34m\u001b[0m\u001b[0;34m\u001b[0m\u001b[0;34m\u001b[0m\u001b[0m\n\u001b[1;32m      4\u001b[0m \u001b[0;32mwith\u001b[0m \u001b[0mopen\u001b[0m\u001b[0;34m(\u001b[0m\u001b[0mdata_path\u001b[0m\u001b[0;34m+\u001b[0m\u001b[0;34m'train_red_reduced2.pkl'\u001b[0m\u001b[0;34m,\u001b[0m \u001b[0;34m'wb'\u001b[0m\u001b[0;34m)\u001b[0m \u001b[0;32mas\u001b[0m \u001b[0mf\u001b[0m\u001b[0;34m:\u001b[0m\u001b[0;34m\u001b[0m\u001b[0;34m\u001b[0m\u001b[0m\n\u001b[0;32m----> 5\u001b[0;31m     \u001b[0mpkl\u001b[0m\u001b[0;34m.\u001b[0m\u001b[0mdump\u001b[0m\u001b[0;34m(\u001b[0m\u001b[0mdataset\u001b[0m\u001b[0;34m,\u001b[0m \u001b[0mf\u001b[0m\u001b[0;34m)\u001b[0m\u001b[0;34m\u001b[0m\u001b[0;34m\u001b[0m\u001b[0m\n\u001b[0m",
      "\u001b[0;31mNameError\u001b[0m: name 'dataset' is not defined"
     ]
    }
   ],
   "source": [
    "# Reduce data size by picking only 10 first classes of the training data\n",
    "#from utils import get_data\n",
    "#dataset = get_data(train_data, 10)\n",
    "with open(data_path+'train_red_reduced2.pkl', 'wb') as f:\n",
    "    pkl.dump(dataset2, f)"
   ]
  },
  {
   "cell_type": "code",
   "execution_count": 3,
   "metadata": {},
   "outputs": [
    {
     "name": "stdout",
     "output_type": "stream",
     "text": [
      "                                            Sequence  Clan ID  Family ID\n",
      "0  [2, 21, 23, 13, 14, 25, 21, 13, 15, 12, 5, 13,...        0       1464\n",
      "1  [2, 15, 15, 25, 22, 11, 14, 20, 5, 15, 19, 14,...        0       2309\n",
      "2  [2, 21, 8, 10, 23, 21, 21, 23, 21, 15, 25, 22,...        0        304\n",
      "3  [2, 15, 11, 13, 25, 15, 8, 5, 10, 22, 11, 25, ...        3      10745\n",
      "4  [2, 9, 12, 13, 11, 13, 5, 25, 22, 8, 15, 9, 5,...        9       8633\n"
     ]
    }
   ],
   "source": [
    "# Load the reduced dataset\n",
    "with open(data_path+'train_red.pkl', 'rb') as f:\n",
    "    dataset = pkl.load(f)\n",
    "print(dataset.head())\n",
    "\n",
    "# Reduce the Dataset\n",
    "dataset2 = dataset[dataset['Family ID'].isin(list(range(100)))]\n",
    "\n",
    "# The Save the reduced Dataset\n",
    "with open(data_path+'train_red_reduced2.pkl', 'wb') as f:\n",
    "    pkl.dump(dataset2, f)\n",
    "\n",
    "# The put dataset into dataset2\n",
    "dataset = dataset2"
   ]
  },
  {
   "cell_type": "code",
   "execution_count": 4,
   "metadata": {},
   "outputs": [
    {
     "data": {
      "image/png": "[encoded data removed]",
      "text/plain": [
       "<Figure size 504x288 with 1 Axes>"
      ]
     },
     "metadata": {},
     "output_type": "display_data"
    }
   ],
   "source": [
    "pdf = pd.DataFrame.from_dict({'Clan ID' : list(range(10)),'Count' : [len(dataset[dataset['Clan ID']==i]) for i in range(10)]})\n",
    "plt.figure(figsize=(7,4))\n",
    "sns.barplot(x='Clan ID', y='Count', data=pdf)\n",
    "plt.show()"
   ]
  },
  {
   "cell_type": "code",
   "execution_count": 5,
   "metadata": {},
   "outputs": [
    {
     "data": {
      "image/png": "[encoded data removed]",
      "text/plain": [
       "<Figure size 504x288 with 1 Axes>"
      ]
     },
     "metadata": {},
     "output_type": "display_data"
    }
   ],
   "source": [
    "pdf = pd.DataFrame.from_dict({'Clan ID' : list(range(10)),'Count' : [len(set(dataset[dataset['Clan ID']==i]['Family ID'])) for i in range(10)]})\n",
    "plt.figure(figsize=(7,4))\n",
    "sns.barplot(x='Clan ID', y='Count', data=pdf)\n",
    "plt.show()"
   ]
  },
  {
   "cell_type": "code",
   "execution_count": 6,
   "metadata": {},
   "outputs": [
    {
     "data": {
      "image/png": "[encoded data removed]",
      "text/plain": [
       "<Figure size 504x288 with 1 Axes>"
      ]
     },
     "metadata": {},
     "output_type": "display_data"
    },
    {
     "data": {
      "image/png": "[encoded data removed]",
      "text/plain": [
       "<Figure size 504x288 with 1 Axes>"
      ]
     },
     "metadata": {},
     "output_type": "display_data"
    },
    {
     "data": {
      "image/png": "[encoded data removed]",
      "text/plain": [
       "<Figure size 504x288 with 1 Axes>"
      ]
     },
     "metadata": {},
     "output_type": "display_data"
    }
   ],
   "source": [
    "dataset2 = dataset[dataset['Family ID'].isin(list(range(100)))]\n",
    "pdf = pd.DataFrame.from_dict({'Clan ID' : list(range(10)),'Count' : [len(dataset[dataset['Clan ID']==i]) for i in range(10)]})\n",
    "plt.figure(figsize=(7,4))\n",
    "sns.barplot(x='Clan ID', y='Count', data=pdf)\n",
    "plt.show()\n",
    "pdf = pd.DataFrame.from_dict({'Clan ID' : list(range(10)),'Count' : [len(set(dataset[dataset['Clan ID']==i]['Family ID'])) for i in range(10)]})\n",
    "plt.figure(figsize=(7,4))\n",
    "sns.barplot(x='Clan ID', y='Count', data=pdf)\n",
    "plt.show()\n",
    "# Histogram of Family IDs\n",
    "pdf = pd.DataFrame.from_dict({'Family ID' : list(range(100)),'Count' : [len(dataset[dataset['Family ID']==i]) for i in range(100)]})\n",
    "plt.figure(figsize=(7,4))\n",
    "sns.barplot(x='Family ID', y='Count', data=pdf)\n",
    "plt.show()\n",
    "# Plot some of the AmoniAcids"
   ]
  },
  {
   "cell_type": "code",
   "execution_count": 7,
   "metadata": {},
   "outputs": [
    {
     "name": "stdout",
     "output_type": "stream",
     "text": [
      "<class 'pandas.core.frame.DataFrame'>\n",
      "Int64Index: 188963 entries, 5 to 10396718\n",
      "Data columns (total 3 columns):\n",
      " #   Column     Non-Null Count   Dtype \n",
      "---  ------     --------------   ----- \n",
      " 0   Sequence   188963 non-null  object\n",
      " 1   Clan ID    188963 non-null  int64 \n",
      " 2   Family ID  188963 non-null  int64 \n",
      "dtypes: int64(2), object(1)\n",
      "memory usage: 5.8+ MB\n"
     ]
    }
   ],
   "source": [
    "# Print Some information about the dataset\n",
    "dataset.info()"
   ]
  },
  {
   "cell_type": "code",
   "execution_count": 8,
   "metadata": {},
   "outputs": [
    {
     "name": "stdout",
     "output_type": "stream",
     "text": [
      "Sequence     object\n",
      "Clan ID       int64\n",
      "Family ID     int64\n",
      "dtype: object\n"
     ]
    },
    {
     "data": {
      "text/html": [
       "<div>\n",
       "<style scoped>\n",
       "    .dataframe tbody tr th:only-of-type {\n",
       "        vertical-align: middle;\n",
       "    }\n",
       "\n",
       "    .dataframe tbody tr th {\n",
       "        vertical-align: top;\n",
       "    }\n",
       "\n",
       "    .dataframe thead th {\n",
       "        text-align: right;\n",
       "    }\n",
       "</style>\n",
       "<table border=\"1\" class=\"dataframe\">\n",
       "  <thead>\n",
       "    <tr style=\"text-align: right;\">\n",
       "      <th></th>\n",
       "      <th>Sequence</th>\n",
       "      <th>Clan ID</th>\n",
       "      <th>Family ID</th>\n",
       "    </tr>\n",
       "  </thead>\n",
       "  <tbody>\n",
       "    <tr>\n",
       "      <th>5</th>\n",
       "      <td>[2, 16, 12, 25, 20, 21, 28, 9, 25, 11, 16, 9, ...</td>\n",
       "      <td>8</td>\n",
       "      <td>20</td>\n",
       "    </tr>\n",
       "    <tr>\n",
       "      <th>14</th>\n",
       "      <td>[2, 19, 19, 9, 5, 25, 22, 20, 15, 13, 25, 21, ...</td>\n",
       "      <td>7</td>\n",
       "      <td>25</td>\n",
       "    </tr>\n",
       "    <tr>\n",
       "      <th>148</th>\n",
       "      <td>[2, 5, 15, 20, 23, 5, 8, 21, 8, 11, 25, 22, 7,...</td>\n",
       "      <td>0</td>\n",
       "      <td>0</td>\n",
       "    </tr>\n",
       "    <tr>\n",
       "      <th>177</th>\n",
       "      <td>[2, 22, 15, 15, 5, 23, 8, 14, 28, 22, 25, 17, ...</td>\n",
       "      <td>0</td>\n",
       "      <td>0</td>\n",
       "    </tr>\n",
       "    <tr>\n",
       "      <th>185</th>\n",
       "      <td>[2, 21, 8, 15, 9, 25, 26, 20, 21, 5, 16, 9, 20...</td>\n",
       "      <td>0</td>\n",
       "      <td>11</td>\n",
       "    </tr>\n",
       "  </tbody>\n",
       "</table>\n",
       "</div>"
      ],
      "text/plain": [
       "                                              Sequence  Clan ID  Family ID\n",
       "5    [2, 16, 12, 25, 20, 21, 28, 9, 25, 11, 16, 9, ...        8         20\n",
       "14   [2, 19, 19, 9, 5, 25, 22, 20, 15, 13, 25, 21, ...        7         25\n",
       "148  [2, 5, 15, 20, 23, 5, 8, 21, 8, 11, 25, 22, 7,...        0          0\n",
       "177  [2, 22, 15, 15, 5, 23, 8, 14, 28, 22, 25, 17, ...        0          0\n",
       "185  [2, 21, 8, 15, 9, 25, 26, 20, 21, 5, 16, 9, 20...        0         11"
      ]
     },
     "execution_count": 8,
     "metadata": {},
     "output_type": "execute_result"
    }
   ],
   "source": [
    "# Printing some more information about the dataset\n",
    "datasetTest2 = pd.DataFrame(dataset)\n",
    "datasetTest2['Sequence'] = datasetTest2['Sequence'].astype(object)\n",
    "print(datasetTest2.dtypes)\n",
    "datasetTest2.head()"
   ]
  },
  {
   "cell_type": "markdown",
   "metadata": {},
   "source": [
    "## Data Preparation\n",
    "Getting the Data ready for utilisation\n",
    "\n",
    "This covers changing the Clan IDs, Family IDs and amoniacid Sequeces into values from 0 to 140 to prepare for the embedding and one hot incoding.\n",
    "\n",
    "This means that all families will have an offset of 11. \n",
    "This additionally implies that the Aminoacids will have a offset of 111.\n",
    "\n",
    "Here the value zero will be used for padding purposes.\n",
    "\n",
    "### Input\n",
    "\n",
    "| Feature   | Interval of Values   |\n",
    "| ------------- |--------------------------|\n",
    "| Clan ID   (10)    | $= 1 \\ldots 10 $ |\n",
    "| Family ID (99)    | $= 11 \\ldots 110 $ |\n",
    "| Aminoacids (30) | $= 111 \\ldots 140 $ |\n",
    "\n",
    "\n",
    "### Output\n",
    "\n",
    "| Feature   | Interval of Values   |\n",
    "| ------------- |--------------------------|\n",
    "| Aminoacids (30) | $= 1 \\ldots 31 $ |"
   ]
  },
  {
   "cell_type": "code",
   "execution_count": 9,
   "metadata": {},
   "outputs": [
    {
     "data": {
      "text/html": [
       "<div>\n",
       "<style scoped>\n",
       "    .dataframe tbody tr th:only-of-type {\n",
       "        vertical-align: middle;\n",
       "    }\n",
       "\n",
       "    .dataframe tbody tr th {\n",
       "        vertical-align: top;\n",
       "    }\n",
       "\n",
       "    .dataframe thead th {\n",
       "        text-align: right;\n",
       "    }\n",
       "</style>\n",
       "<table border=\"1\" class=\"dataframe\">\n",
       "  <thead>\n",
       "    <tr style=\"text-align: right;\">\n",
       "      <th></th>\n",
       "      <th>Sequence</th>\n",
       "      <th>Clan ID</th>\n",
       "      <th>Family ID</th>\n",
       "    </tr>\n",
       "  </thead>\n",
       "  <tbody>\n",
       "    <tr>\n",
       "      <th>5</th>\n",
       "      <td>[113, 127, 123, 120, 125, 124, 117, 120, 120, ...</td>\n",
       "      <td>9</td>\n",
       "      <td>31</td>\n",
       "    </tr>\n",
       "    <tr>\n",
       "      <th>14</th>\n",
       "      <td>[113, 126, 126, 120, 116, 120, 123, 125, 126, ...</td>\n",
       "      <td>8</td>\n",
       "      <td>36</td>\n",
       "    </tr>\n",
       "    <tr>\n",
       "      <th>148</th>\n",
       "      <td>[113, 116, 126, 125, 122, 116, 119, 124, 119, ...</td>\n",
       "      <td>1</td>\n",
       "      <td>11</td>\n",
       "    </tr>\n",
       "    <tr>\n",
       "      <th>177</th>\n",
       "      <td>[113, 123, 126, 126, 116, 122, 119, 125, 117, ...</td>\n",
       "      <td>1</td>\n",
       "      <td>11</td>\n",
       "    </tr>\n",
       "    <tr>\n",
       "      <th>185</th>\n",
       "      <td>[113, 124, 119, 126, 120, 120, 119, 125, 124, ...</td>\n",
       "      <td>1</td>\n",
       "      <td>22</td>\n",
       "    </tr>\n",
       "  </tbody>\n",
       "</table>\n",
       "</div>"
      ],
      "text/plain": [
       "                                              Sequence  Clan ID  Family ID\n",
       "5    [113, 127, 123, 120, 125, 124, 117, 120, 120, ...        9         31\n",
       "14   [113, 126, 126, 120, 116, 120, 123, 125, 126, ...        8         36\n",
       "148  [113, 116, 126, 125, 122, 116, 119, 124, 119, ...        1         11\n",
       "177  [113, 123, 126, 126, 116, 122, 119, 125, 117, ...        1         11\n",
       "185  [113, 124, 119, 126, 120, 120, 119, 125, 124, ...        1         22"
      ]
     },
     "execution_count": 9,
     "metadata": {},
     "output_type": "execute_result"
    }
   ],
   "source": [
    "# Determine Unique families\n",
    "offset_Clans = 1\n",
    "offset_Family = 11\n",
    "offset_Aminoacid = 111\n",
    "\n",
    "dataset_Pre = pd.DataFrame(datasetTest2)\n",
    "for i in range(0, len(dataset_Pre)):\n",
    "    dataset_Pre.iloc[i,1] = dataset_Pre.iloc[i,1] + offset_Clans\n",
    "    dataset_Pre.iloc[i,2] = dataset_Pre.iloc[i,2] + offset_Family\n",
    "\n",
    "dataset_Pre.iloc[:,0] = (dataset_Pre.iloc[:,0] + offset_Aminoacid)   \n",
    "\n",
    "# Make sure all the values are positive\n",
    "dataset_Pre['Sequence'] = dataset_Pre['Sequence'].abs()\n",
    "\n",
    "dataset_Pre.head()"
   ]
  },
  {
   "cell_type": "code",
   "execution_count": 10,
   "metadata": {},
   "outputs": [
    {
     "data": {
      "text/html": [
       "<div>\n",
       "<style scoped>\n",
       "    .dataframe tbody tr th:only-of-type {\n",
       "        vertical-align: middle;\n",
       "    }\n",
       "\n",
       "    .dataframe tbody tr th {\n",
       "        vertical-align: top;\n",
       "    }\n",
       "\n",
       "    .dataframe thead th {\n",
       "        text-align: right;\n",
       "    }\n",
       "</style>\n",
       "<table border=\"1\" class=\"dataframe\">\n",
       "  <thead>\n",
       "    <tr style=\"text-align: right;\">\n",
       "      <th></th>\n",
       "      <th>Sequence</th>\n",
       "      <th>Clan ID</th>\n",
       "      <th>Family ID</th>\n",
       "    </tr>\n",
       "  </thead>\n",
       "  <tbody>\n",
       "    <tr>\n",
       "      <th>0</th>\n",
       "      <td>[113, 127, 123, 120, 125, 124, 117, 120, 120, ...</td>\n",
       "      <td>9</td>\n",
       "      <td>31</td>\n",
       "    </tr>\n",
       "    <tr>\n",
       "      <th>1</th>\n",
       "      <td>[113, 126, 126, 120, 116, 120, 123, 125, 126, ...</td>\n",
       "      <td>8</td>\n",
       "      <td>36</td>\n",
       "    </tr>\n",
       "    <tr>\n",
       "      <th>2</th>\n",
       "      <td>[113, 116, 126, 125, 122, 116, 119, 124, 119, ...</td>\n",
       "      <td>1</td>\n",
       "      <td>11</td>\n",
       "    </tr>\n",
       "    <tr>\n",
       "      <th>3</th>\n",
       "      <td>[113, 123, 126, 126, 116, 122, 119, 125, 117, ...</td>\n",
       "      <td>1</td>\n",
       "      <td>11</td>\n",
       "    </tr>\n",
       "    <tr>\n",
       "      <th>4</th>\n",
       "      <td>[113, 124, 119, 126, 120, 120, 119, 125, 124, ...</td>\n",
       "      <td>1</td>\n",
       "      <td>22</td>\n",
       "    </tr>\n",
       "  </tbody>\n",
       "</table>\n",
       "</div>"
      ],
      "text/plain": [
       "                                            Sequence  Clan ID  Family ID\n",
       "0  [113, 127, 123, 120, 125, 124, 117, 120, 120, ...        9         31\n",
       "1  [113, 126, 126, 120, 116, 120, 123, 125, 126, ...        8         36\n",
       "2  [113, 116, 126, 125, 122, 116, 119, 124, 119, ...        1         11\n",
       "3  [113, 123, 126, 126, 116, 122, 119, 125, 117, ...        1         11\n",
       "4  [113, 124, 119, 126, 120, 120, 119, 125, 124, ...        1         22"
      ]
     },
     "execution_count": 10,
     "metadata": {},
     "output_type": "execute_result"
    }
   ],
   "source": [
    "# Import function\n",
    "from utils import get_data_input\n",
    "\n",
    "# First the definition of input and output - Here only 10 amino acids should go into the Neural Network for the generation of the protein\n",
    "X = get_data_input(dataset_Pre,10)\n",
    "X.head()"
   ]
  },
  {
   "cell_type": "code",
   "execution_count": 11,
   "metadata": {},
   "outputs": [
    {
     "data": {
      "text/html": [
       "<div>\n",
       "<style scoped>\n",
       "    .dataframe tbody tr th:only-of-type {\n",
       "        vertical-align: middle;\n",
       "    }\n",
       "\n",
       "    .dataframe tbody tr th {\n",
       "        vertical-align: top;\n",
       "    }\n",
       "\n",
       "    .dataframe thead th {\n",
       "        text-align: right;\n",
       "    }\n",
       "</style>\n",
       "<table border=\"1\" class=\"dataframe\">\n",
       "  <thead>\n",
       "    <tr style=\"text-align: right;\">\n",
       "      <th></th>\n",
       "      <th>Sequence</th>\n",
       "    </tr>\n",
       "  </thead>\n",
       "  <tbody>\n",
       "    <tr>\n",
       "      <th>0</th>\n",
       "      <td>[3, 17, 13, 10, 15, 14, 7, 10, 10, 12, 17, 10,...</td>\n",
       "    </tr>\n",
       "    <tr>\n",
       "      <th>1</th>\n",
       "      <td>[3, 16, 16, 10, 6, 10, 13, 15, 16, 14, 10, 14,...</td>\n",
       "    </tr>\n",
       "    <tr>\n",
       "      <th>2</th>\n",
       "      <td>[3, 6, 16, 15, 12, 6, 9, 14, 9, 12, 10, 13, 8,...</td>\n",
       "    </tr>\n",
       "    <tr>\n",
       "      <th>3</th>\n",
       "      <td>[3, 13, 16, 16, 6, 12, 9, 15, 7, 13, 10, 18, 1...</td>\n",
       "    </tr>\n",
       "    <tr>\n",
       "      <th>4</th>\n",
       "      <td>[3, 14, 9, 16, 10, 10, 9, 15, 14, 6, 17, 10, 1...</td>\n",
       "    </tr>\n",
       "  </tbody>\n",
       "</table>\n",
       "</div>"
      ],
      "text/plain": [
       "                                            Sequence\n",
       "0  [3, 17, 13, 10, 15, 14, 7, 10, 10, 12, 17, 10,...\n",
       "1  [3, 16, 16, 10, 6, 10, 13, 15, 16, 14, 10, 14,...\n",
       "2  [3, 6, 16, 15, 12, 6, 9, 14, 9, 12, 10, 13, 8,...\n",
       "3  [3, 13, 16, 16, 6, 12, 9, 15, 7, 13, 10, 18, 1...\n",
       "4  [3, 14, 9, 16, 10, 10, 9, 15, 14, 6, 17, 10, 1..."
      ]
     },
     "execution_count": 11,
     "metadata": {},
     "output_type": "execute_result"
    }
   ],
   "source": [
    "# Create Output data\n",
    "from utils import get_data_output\n",
    "\n",
    "Y = get_data_output(dataset_Pre)\n",
    "Y.head()"
   ]
  },
  {
   "cell_type": "markdown",
   "metadata": {},
   "source": [
    "### Pad all the Inputs and Outputs\n",
    "Creating Input data and target values with padding - inspired from https://towardsdatascience.com/taming-lstms-variable-sized-mini-batches-and-why-pytorch-is-good-for-your-health-61d35642972e\n",
    "\n",
    "This will make all input and output the same size.\n",
    "\n",
    "Currently, there is an Input X and an output Y, which needs some padding before they can be used for training of the LSTM and the GRU\n",
    "\n"
   ]
  },
  {
   "cell_type": "code",
   "execution_count": null,
   "metadata": {},
   "outputs": [],
   "source": [
    "# Pad the Input for the Neural Network to be the same size"
   ]
  },
  {
   "cell_type": "markdown",
   "metadata": {},
   "source": [
    "## RNN Network for Protein Generation\n",
    "This section will define the network architecture for the neural network RNN used as the backbone of the ProWave neural network for protein generation. Note that this network serves as a baseline implementation meant to test our ideas, while the final network we desire to implement, is a WaveNet-based model, which differs significantly from the network below."
   ]
  },
  {
   "cell_type": "code",
   "execution_count": null,
   "metadata": {},
   "outputs": [],
   "source": [
    "import torch\n",
    "import torch.nn as nn\n",
    "import torch.nn.functional as F\n",
    "\n",
    "clanidsize = 623\n",
    "familyids = 15000\n",
    "\n",
    "class MyRecurrentNet(nn.Module):\n",
    "    def __init__(self):\n",
    "        super(MyRecurrentNet, self).__init__()\n",
    "        \n",
    "        # Recurrent layer\n",
    "        self.lstm = nn.LSTM(input_size=(vocab_size),\n",
    "                         hidden_size=1000,\n",
    "                         num_layers=1,\n",
    "                         bidirectional=False)\n",
    "        \n",
    "        # Output layer\n",
    "        self.l_out = nn.Linear(in_features=1000,\n",
    "                            out_features=vocab_size,\n",
    "                            bias=False)\n",
    "        \n",
    "    def forward(self, x):\n",
    "        # RNN returns output and last hidden state\n",
    "        \n",
    "        x, (h, c) = self.lstm(x)\n",
    "        \n",
    "        # Flatten output for feed-forward layer\n",
    "        x = x.view(-1, self.lstm.hidden_size)\n",
    "        \n",
    "        # Output layer\n",
    "        x = self.l_out(x)\n",
    "        \n",
    "        return x\n",
    "\n",
    "net = MyRecurrentNet()\n",
    "print(net)"
   ]
  },
  {
   "cell_type": "markdown",
   "metadata": {},
   "source": [
    "### Training loop"
   ]
  },
  {
   "cell_type": "markdown",
   "metadata": {},
   "source": [
    "It's time for us to train our network. In the section below, you will get to put your deep learning skills to use and create your own training loop. You may want to consult previous exercises if you cannot recall how to define the training loop."
   ]
  },
  {
   "cell_type": "code",
   "execution_count": null,
   "metadata": {},
   "outputs": [],
   "source": [
    "# Hyper-parameters\n",
    "num_epochs = 200\n",
    "\n",
    "# Initialize a new network\n",
    "net = MyRecurrentNet()\n",
    "\n",
    "import torch.optim as optim\n",
    "\n",
    "# Define a loss function and optimizer for this problem\n",
    "criterion = nn.CrossEntropyLoss()\n",
    "optimizer = optim.SGD(net.parameters(), lr=0.004, momentum=0.6) \n",
    "\n",
    "# Track loss\n",
    "training_loss, validation_loss = [], []\n",
    "\n",
    "# For each epoch\n",
    "for i in range(num_epochs):\n",
    "    \n",
    "    # Track loss\n",
    "    epoch_training_loss = 0\n",
    "    epoch_validation_loss = 0\n",
    "    \n",
    "    net.eval()\n",
    "        \n",
    "    # For each sentence in validation set\n",
    "    for inputs, targets in validation_set:\n",
    "        \n",
    "        # One-hot encode input and target sequence\n",
    "        inputs_one_hot = one_hot_encode_sequence(inputs, vocab_size)\n",
    "        targets_idx = [word_to_idx[word] for word in targets]\n",
    "        \n",
    "        # Convert input to tensor\n",
    "        inputs_one_hot = torch.Tensor(inputs_one_hot)\n",
    "        inputs_one_hot = inputs_one_hot.permute(0, 2, 1)\n",
    "        \n",
    "        # Convert target to tensor\n",
    "        targets_idx = torch.LongTensor(targets_idx)\n",
    "        \n",
    "        # Forward pass\n",
    "        # zero the parameter gradients\n",
    "        optimizer.zero_grad()\n",
    "        output= net(inputs_one_hot)\n",
    "        batch_loss = criterion(output, targets_idx)\n",
    "\n",
    "        # forward + backward + optimize\n",
    "        batch_loss.backward()\n",
    "        optimizer.step() \n",
    "        \n",
    "        # Compute loss\n",
    "        # YOUR CODE HERE!\n",
    "        loss = batch_loss\n",
    "        \n",
    "        # Update loss\n",
    "        epoch_validation_loss += loss.detach().numpy()\n",
    "    \n",
    "    net.train()\n",
    "    \n",
    "    # For each sentence in training set\n",
    "    for inputs, targets in training_set:\n",
    "        \n",
    "        # One-hot encode input and target sequence\n",
    "        inputs_one_hot = one_hot_encode_sequence(inputs, vocab_size)\n",
    "        targets_idx = [word_to_idx[word] for word in targets]\n",
    "        \n",
    "        # Convert input to tensor\n",
    "        inputs_one_hot = torch.Tensor(inputs_one_hot)\n",
    "        inputs_one_hot = inputs_one_hot.permute(0, 2, 1)\n",
    "        \n",
    "        # Convert target to tensor\n",
    "        targets_idx = torch.LongTensor(targets_idx)\n",
    "        \n",
    "        # Forward pass\n",
    "        # zero the parameter gradients\n",
    "        optimizer.zero_grad()\n",
    "        output= net(inputs_one_hot)\n",
    "        batch_loss = criterion(output, targets_idx)\n",
    "\n",
    "        # forward + backward + optimize\n",
    "        batch_loss.backward()\n",
    "        optimizer.step() \n",
    "        \n",
    "        # Compute loss\n",
    "        # YOUR CODE HERE!\n",
    "        loss = batch_loss\n",
    "        \n",
    "        # Update loss\n",
    "        epoch_training_loss += loss.detach().numpy()\n",
    "        \n",
    "    # Save loss for plot\n",
    "    training_loss.append(epoch_training_loss/len(training_set))\n",
    "    validation_loss.append(epoch_validation_loss/len(validation_set))\n",
    "\n",
    "    # Print loss every 10 epochs\n",
    "    if i % 10 == 0:\n",
    "        print(f'Epoch {i}, training loss: {training_loss[-1]}, validation loss: {validation_loss[-1]}')\n",
    "\n",
    "        \n",
    "# Get first sentence in test set\n",
    "inputs, targets = test_set[1]\n",
    "\n",
    "# One-hot encode input and target sequence\n",
    "inputs_one_hot = one_hot_encode_sequence(inputs, vocab_size)\n",
    "targets_idx = [word_to_idx[word] for word in targets]\n",
    "\n",
    "# Convert input to tensor\n",
    "inputs_one_hot = torch.Tensor(inputs_one_hot)\n",
    "inputs_one_hot = inputs_one_hot.permute(0, 2, 1)\n",
    "\n",
    "# Convert target to tensor\n",
    "targets_idx = torch.LongTensor(targets_idx)\n",
    "\n",
    "# Forward pass\n",
    "outputs = net.forward(inputs_one_hot).data.numpy()\n",
    "\n",
    "print('\\nInput sequence:')\n",
    "print(inputs)\n",
    "\n",
    "print('\\nTarget sequence:')\n",
    "print(targets)\n",
    "\n",
    "print('\\nPredicted sequence:')\n",
    "print([idx_to_word[np.argmax(output)] for output in outputs])\n",
    "\n",
    "# Plot training and validation loss\n",
    "epoch = np.arange(len(training_loss))\n",
    "plt.figure()\n",
    "plt.plot(epoch, training_loss, 'r', label='Training loss',)\n",
    "plt.plot(epoch, validation_loss, 'b', label='Validation loss')\n",
    "plt.legend()\n",
    "plt.xlabel('Epoch'), plt.ylabel('NLL')\n",
    "plt.show()"
   ]
  },
  {
   "cell_type": "code",
   "execution_count": null,
   "metadata": {},
   "outputs": [],
   "source": []
  }
 ],
 "metadata": {
  "kernelspec": {
   "display_name": "Python 3",
   "language": "python",
   "name": "python3"
  },
  "language_info": {
   "codemirror_mode": {
    "name": "ipython",
    "version": 3
   },
   "file_extension": ".py",
   "mimetype": "text/x-python",
   "name": "python",
   "nbconvert_exporter": "python",
   "pygments_lexer": "ipython3",
   "version": "3.8.5"
  }
 },
 "nbformat": 4,
 "nbformat_minor": 4
}
